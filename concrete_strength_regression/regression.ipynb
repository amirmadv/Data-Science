{
 "cells": [
  {
   "cell_type": "raw",
   "id": "797e36be-5b71-4c60-9901-30d495eacb27",
   "metadata": {
    "direction": "ltr",
    "tags": []
   },
   "source": []
  },
  {
   "cell_type": "raw",
   "id": "f98dd407",
   "metadata": {
    "direction": "rtl"
   },
   "source": []
  },
  {
   "cell_type": "code",
   "execution_count": null,
   "id": "66b09fb0",
   "metadata": {},
   "outputs": [],
   "source": [
    " در مجموعه داده ای که مربوط به 1030 مشاهده از مقاوت فشاری کامل یک ترکیب از مواد اولیه مختلف است، هشت متغیر توصیفی مطابق با فهرست زیر قرار دارد."
   ]
  },
  {
   "cell_type": "code",
   "execution_count": 1,
   "id": "d4302a0e",
   "metadata": {},
   "outputs": [
    {
     "name": "stdout",
     "output_type": "stream",
     "text": [
      "Note: you may need to restart the kernel to use updated packages.\n"
     ]
    },
    {
     "name": "stderr",
     "output_type": "stream",
     "text": [
      "ERROR: Could not find a version that satisfies the requirement Bi (from versions: none)\n",
      "ERROR: No matching distribution found for Bi\n"
     ]
    }
   ],
   "source": [
    "pip install Bi Directional"
   ]
  },
  {
   "cell_type": "code",
   "execution_count": 1,
   "id": "744fbf3c",
   "metadata": {
    "direction": "rtl"
   },
   "outputs": [
    {
     "ename": "ModuleNotFoundError",
     "evalue": "No module named 'arabic_reshaper'",
     "output_type": "error",
     "traceback": [
      "\u001b[1;31m---------------------------------------------------------------------------\u001b[0m",
      "\u001b[1;31mModuleNotFoundError\u001b[0m                       Traceback (most recent call last)",
      "Cell \u001b[1;32mIn [1], line 1\u001b[0m\n\u001b[1;32m----> 1\u001b[0m \u001b[38;5;28;01mimport\u001b[39;00m \u001b[38;5;21;01marabic_reshaper\u001b[39;00m\n\u001b[0;32m      2\u001b[0m \u001b[38;5;28;01mfrom\u001b[39;00m \u001b[38;5;21;01mbidi\u001b[39;00m\u001b[38;5;21;01m.\u001b[39;00m\u001b[38;5;21;01malgorithm\u001b[39;00m \u001b[38;5;28;01mimport\u001b[39;00m get_display\n\u001b[0;32m      4\u001b[0m \u001b[38;5;66;03m#...\u001b[39;00m\n",
      "\u001b[1;31mModuleNotFoundError\u001b[0m: No module named 'arabic_reshaper'"
     ]
    }
   ],
   "source": [
    "import arabic_reshaper\n",
    "from bidi.algorithm import get_display\n",
    "\n",
    "#...\n",
    "reshaped_text = arabic_reshaper.reshape(u'فارسی نویسی در پایتون')\n",
    "bidi_text = get_display(reshaped_text)\n",
    "pass_arabic_text_to_render(bidi_text)  # <-- This function does not really exist\n",
    "#..."
   ]
  },
  {
   "cell_type": "code",
   "execution_count": 1,
   "id": "5bc8da56-d0d3-4dcd-8c0e-ee4489a67fd1",
   "metadata": {},
   "outputs": [],
   "source": [
    "import numpy as np\n",
    "import pandas as pd\n",
    "import matplotlib.pyplot as plt\n",
    "\n",
    "data = pd.read_csv(r\"C:\\Users\\Amir\\Desktop\\python $ Data Science\\regression\\Concrete_Data.csv\")"
   ]
  },
  {
   "cell_type": "code",
   "execution_count": 2,
   "id": "a60c2a6a-c00a-47e4-ba27-6eea03da8083",
   "metadata": {},
   "outputs": [],
   "source": [
    "x = data.iloc[:,0:8]    #input\n",
    "y = data.iloc[:,8:]     #output"
   ]
  },
  {
   "cell_type": "code",
   "execution_count": 3,
   "id": "1741f741-1d20-4b1a-ac03-31424870e2a9",
   "metadata": {},
   "outputs": [
    {
     "name": "stdout",
     "output_type": "stream",
     "text": [
      "      Cement  Blast  Fly Ash  Water  Superplasticizer      CA     FA  Age\n",
      "0      540.0    0.0      0.0  162.0               2.5  1040.0  676.0   28\n",
      "1      540.0    0.0      0.0  162.0               2.5  1055.0  676.0   28\n",
      "2      332.5  142.5      0.0  228.0               0.0   932.0  594.0  270\n",
      "3      332.5  142.5      0.0  228.0               0.0   932.0  594.0  365\n",
      "4      198.6  132.4      0.0  192.0               0.0   978.4  825.5  360\n",
      "...      ...    ...      ...    ...               ...     ...    ...  ...\n",
      "1025   276.4  116.0     90.3  179.6               8.9   870.1  768.3   28\n",
      "1026   322.2    0.0    115.6  196.0              10.4   817.9  813.4   28\n",
      "1027   148.5  139.4    108.6  192.7               6.1   892.4  780.0   28\n",
      "1028   159.1  186.7      0.0  175.6              11.3   989.6  788.9   28\n",
      "1029   260.9  100.5     78.3  200.6               8.6   864.5  761.5   28\n",
      "\n",
      "[1030 rows x 8 columns]\n"
     ]
    }
   ],
   "source": [
    "print(x)"
   ]
  },
  {
   "cell_type": "code",
   "execution_count": 4,
   "id": "6bbe8213-0eb0-4c98-b505-cc809301d851",
   "metadata": {},
   "outputs": [
    {
     "name": "stdout",
     "output_type": "stream",
     "text": [
      "        CMS\n",
      "0     79.99\n",
      "1     61.89\n",
      "2     40.27\n",
      "3     41.05\n",
      "4     44.30\n",
      "...     ...\n",
      "1025  44.28\n",
      "1026  31.18\n",
      "1027  23.70\n",
      "1028  32.77\n",
      "1029  32.40\n",
      "\n",
      "[1030 rows x 1 columns]\n"
     ]
    }
   ],
   "source": [
    "print(y)"
   ]
  },
  {
   "cell_type": "code",
   "execution_count": 5,
   "id": "90b323c3-3bec-4ea1-a983-7c543f238163",
   "metadata": {},
   "outputs": [],
   "source": [
    "from sklearn.model_selection import train_test_split"
   ]
  },
  {
   "cell_type": "code",
   "execution_count": 6,
   "id": "eb117b68-9081-4024-ab19-8d26c8d58739",
   "metadata": {},
   "outputs": [],
   "source": [
    "x_train,x_test,y_train,y_test = train_test_split(x,y,test_size = 0.2,random_state = 100)       #split training data from test data"
   ]
  },
  {
   "cell_type": "code",
   "execution_count": 7,
   "id": "5af47ce0-eab7-4f4b-947e-2e646e9cce53",
   "metadata": {},
   "outputs": [],
   "source": [
    "from sklearn.linear_model import LinearRegression\n",
    "\n",
    "lm = LinearRegression()     # making regression model\n",
    "lm = lm.fit(x_train,y_train)   # training model by training data"
   ]
  },
  {
   "cell_type": "code",
   "execution_count": 8,
   "id": "bca09d1a-5ff6-464e-b201-3d7037346ca2",
   "metadata": {},
   "outputs": [
    {
     "data": {
      "text/plain": [
       "array([[ 0.12415357,  0.10366839,  0.093371  , -0.13429401,  0.28804259,\n",
       "         0.02065756,  0.02563037,  0.11461733]])"
      ]
     },
     "execution_count": 8,
     "metadata": {},
     "output_type": "execute_result"
    }
   ],
   "source": [
    "lm.coef_      #   X8 تا X1 به ترتیب، ضرایب متغیرهای توصیفی "
   ]
  },
  {
   "cell_type": "code",
   "execution_count": 9,
   "id": "354812de-39c2-4f7c-90df-9b49d6018033",
   "metadata": {},
   "outputs": [],
   "source": [
    "coefficients = pd.concat([pd.DataFrame(x_train.columns),pd.DataFrame(np.transpose(lm.coef_))], axis = 1)"
   ]
  },
  {
   "cell_type": "code",
   "execution_count": 10,
   "id": "a0902163-0f4d-45cb-a0e4-9161cb64f97a",
   "metadata": {},
   "outputs": [
    {
     "name": "stdout",
     "output_type": "stream",
     "text": [
      "                  0         0\n",
      "0            Cement  0.124154\n",
      "1             Blast  0.103668\n",
      "2           Fly Ash  0.093371\n",
      "3             Water -0.134294\n",
      "4  Superplasticizer  0.288043\n",
      "5                CA  0.020658\n",
      "6                FA  0.025630\n",
      "7               Age  0.114617\n"
     ]
    }
   ],
   "source": [
    "print(coefficients)"
   ]
  },
  {
   "cell_type": "code",
   "execution_count": 11,
   "id": "2ab6054b-0ed0-45c0-9f3a-d6f236216209",
   "metadata": {},
   "outputs": [
    {
     "data": {
      "text/plain": [
       "array([-34.273527])"
      ]
     },
     "execution_count": 11,
     "metadata": {},
     "output_type": "execute_result"
    }
   ],
   "source": [
    "lm.intercept_     #  مقدار عرض از مبدا یا میانگین کل"
   ]
  },
  {
   "cell_type": "code",
   "execution_count": 12,
   "id": "d3c60854-4360-47dd-a006-e93eb34a2ca3",
   "metadata": {},
   "outputs": [],
   "source": [
    "y_pred = lm.predict(x_test)    # مقادیر پیش‌بینی شده \n",
    "y_error = y_test - y_pred      # خطاها"
   ]
  },
  {
   "cell_type": "code",
   "execution_count": 13,
   "id": "a2756930-186f-491b-b3a8-2f7cae3eab38",
   "metadata": {},
   "outputs": [
    {
     "name": "stdout",
     "output_type": "stream",
     "text": [
      "           CMS\n",
      "173   6.956941\n",
      "134  17.669987\n",
      "822   2.903714\n",
      "264  -8.330767\n",
      "479 -13.555988\n",
      "..         ...\n",
      "247  10.822632\n",
      "207   5.118252\n",
      "672  -8.368657\n",
      "191  -0.108884\n",
      "378   7.739088\n",
      "\n",
      "[206 rows x 1 columns]\n"
     ]
    }
   ],
   "source": [
    "print(y_error)"
   ]
  },
  {
   "cell_type": "code",
   "execution_count": 14,
   "id": "1d7208d9-2645-4f71-96a9-08c49b769be5",
   "metadata": {
    "scrolled": true
   },
   "outputs": [
    {
     "data": {
      "text/plain": [
       "0.622520087740484"
      ]
     },
     "execution_count": 14,
     "metadata": {},
     "output_type": "execute_result"
    }
   ],
   "source": [
    "from sklearn.metrics import r2_score\n",
    "\n",
    "r2_score(y_test,y_pred)    #    که ابزاری برای سنجش کارایی مدل است Math Processing Error محاسبه ضریب تعیین یا                                                               محاسبه ضریب تعیین یا [Math Processing Erro"
   ]
  },
  {
   "cell_type": "code",
   "execution_count": null,
   "id": "34a040ea-f3ac-4472-b947-e6ebb6d686aa",
   "metadata": {},
   "outputs": [],
   "source": [
    "#    مقدار بالا مناسب است و مدل به خوبی شکل گرفته است زیرا مقدار ضریب تعیین بزرگتر از ۰٫۶ است   "
   ]
  }
 ],
 "metadata": {
  "celltoolbar": "Raw Cell Format",
  "direction": "ltr",
  "kernelspec": {
   "display_name": "Python 3 (ipykernel)",
   "language": "python",
   "name": "python3"
  },
  "language_info": {
   "codemirror_mode": {
    "name": "ipython",
    "version": 3
   },
   "file_extension": ".py",
   "mimetype": "text/x-python",
   "name": "python",
   "nbconvert_exporter": "python",
   "pygments_lexer": "ipython3",
   "version": "3.10.14"
  }
 },
 "nbformat": 4,
 "nbformat_minor": 5
}
